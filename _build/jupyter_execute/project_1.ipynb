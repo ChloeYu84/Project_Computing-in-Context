{
 "cells": [
  {
   "cell_type": "markdown",
   "metadata": {},
   "source": [
    "# Project 1: Data Manipulation\n",
    "\n",
    "Author: Chloe Yu"
   ]
  },
  {
   "cell_type": "markdown",
   "metadata": {},
   "source": [
    "Here we want to make sure that the file path is correctly configured to run our project and fetch data. "
   ]
  },
  {
   "cell_type": "code",
   "execution_count": 1,
   "metadata": {},
   "outputs": [
    {
     "data": {
      "text/plain": [
       "'/Users/yuxiaohan/Documents/SIPA/Computing in Context/🐟'"
      ]
     },
     "execution_count": 1,
     "metadata": {},
     "output_type": "execute_result"
    }
   ],
   "source": [
    "import os\n",
    "os.getcwd()"
   ]
  },
  {
   "cell_type": "code",
   "execution_count": 2,
   "metadata": {},
   "outputs": [],
   "source": [
    "os.chdir('/Users/yuxiaohan/Documents/SIPA/Computing in Context/🐟')"
   ]
  },
  {
   "cell_type": "code",
   "execution_count": 3,
   "metadata": {},
   "outputs": [
    {
     "data": {
      "text/plain": [
       "'/Users/yuxiaohan/Documents/SIPA/Computing in Context/🐟'"
      ]
     },
     "execution_count": 3,
     "metadata": {},
     "output_type": "execute_result"
    }
   ],
   "source": [
    "os.getcwd()"
   ]
  },
  {
   "cell_type": "code",
   "execution_count": 4,
   "metadata": {},
   "outputs": [
    {
     "name": "stdout",
     "output_type": "stream",
     "text": [
      "\u001b[34m'.\u001b[m\u001b[m              _toc.yml        environment.yml project_1.ipynb project_3.ipynb\r\n",
      "\u001b[34m_build\u001b[m\u001b[m          \u001b[34mdata\u001b[m\u001b[m            index.md        project_2.ipynb\r\n"
     ]
    }
   ],
   "source": [
    "!ls"
   ]
  },
  {
   "cell_type": "code",
   "execution_count": 5,
   "metadata": {},
   "outputs": [
    {
     "name": "stderr",
     "output_type": "stream",
     "text": [
      "/var/folders/1l/cz0zq77d43dccjqlpzkz3ddm0000gn/T/ipykernel_483/1495299995.py:2: DtypeWarning: Columns (20) have mixed types. Specify dtype option on import or set low_memory=False.\n",
      "  data = pd.read_csv(\"./data/DCWP_20241106.csv\")\n"
     ]
    }
   ],
   "source": [
    "import pandas as pd\n",
    "data = pd.read_csv(\"./data/DCWP_20241106.csv\")"
   ]
  },
  {
   "cell_type": "markdown",
   "metadata": {},
   "source": [
    "# Data Calculate"
   ]
  },
  {
   "cell_type": "markdown",
   "metadata": {},
   "source": [
    "I choose \"Department of Consumer and Worker Protection (DCWP) Issued Chargesa\" as my Dataset, Here is the url: \n",
    "\n",
    "\n",
    "https://data.cityofnewyork.us/Business/Department-of-Consumer-and-Worker-Protection-DCWP-/5fn4-dr26/about_data"
   ]
  },
  {
   "cell_type": "markdown",
   "metadata": {},
   "source": [
    "I will select Charge Count as the column"
   ]
  },
  {
   "cell_type": "code",
   "execution_count": 6,
   "metadata": {},
   "outputs": [
    {
     "data": {
      "text/html": [
       "<div>\n",
       "<style scoped>\n",
       "    .dataframe tbody tr th:only-of-type {\n",
       "        vertical-align: middle;\n",
       "    }\n",
       "\n",
       "    .dataframe tbody tr th {\n",
       "        vertical-align: top;\n",
       "    }\n",
       "\n",
       "    .dataframe thead th {\n",
       "        text-align: right;\n",
       "    }\n",
       "</style>\n",
       "<table border=\"1\" class=\"dataframe\">\n",
       "  <thead>\n",
       "    <tr style=\"text-align: right;\">\n",
       "      <th></th>\n",
       "      <th>Record ID</th>\n",
       "      <th>Certificate Number</th>\n",
       "      <th>Business Name</th>\n",
       "      <th>Violation Date</th>\n",
       "      <th>Industry</th>\n",
       "      <th>Borough</th>\n",
       "      <th>Charge</th>\n",
       "      <th>Charge Count</th>\n",
       "      <th>Outcome</th>\n",
       "      <th>Counts Settled</th>\n",
       "      <th>...</th>\n",
       "      <th>Street</th>\n",
       "      <th>Street 2</th>\n",
       "      <th>Unit Type</th>\n",
       "      <th>Unit</th>\n",
       "      <th>Description</th>\n",
       "      <th>City</th>\n",
       "      <th>State</th>\n",
       "      <th>Zip</th>\n",
       "      <th>Longitude</th>\n",
       "      <th>Latitude</th>\n",
       "    </tr>\n",
       "  </thead>\n",
       "  <tbody>\n",
       "    <tr>\n",
       "      <th>0</th>\n",
       "      <td>28319-2020-ENFO</td>\n",
       "      <td>20T00443</td>\n",
       "      <td>CLASSIC DELI CORP</td>\n",
       "      <td>12/02/2020</td>\n",
       "      <td>Tobacco Retail Dealer</td>\n",
       "      <td>Bronx</td>\n",
       "      <td>NYC Admin Code § 17-715(a) - SOLD, OFFERED FOR...</td>\n",
       "      <td>12</td>\n",
       "      <td>Default Decision</td>\n",
       "      <td>NaN</td>\n",
       "      <td>...</td>\n",
       "      <td>E GUN HILL RD</td>\n",
       "      <td>NaN</td>\n",
       "      <td>NaN</td>\n",
       "      <td>NaN</td>\n",
       "      <td>NaN</td>\n",
       "      <td>BRONX</td>\n",
       "      <td>NY</td>\n",
       "      <td>10469.0</td>\n",
       "      <td>-73.84405</td>\n",
       "      <td>40.869315</td>\n",
       "    </tr>\n",
       "    <tr>\n",
       "      <th>1</th>\n",
       "      <td>52728-2019-ENFO</td>\n",
       "      <td>05441777</td>\n",
       "      <td>SUN FAT FRUIT &amp; VEGATABLE, INC</td>\n",
       "      <td>10/09/2019</td>\n",
       "      <td>Stoop Line Stand - 033</td>\n",
       "      <td>Manhattan</td>\n",
       "      <td>NYC Admin Code § 20-237(a) - Stoop line licens...</td>\n",
       "      <td>2</td>\n",
       "      <td>Default Decision</td>\n",
       "      <td>NaN</td>\n",
       "      <td>...</td>\n",
       "      <td>MOTT ST</td>\n",
       "      <td>NaN</td>\n",
       "      <td>NaN</td>\n",
       "      <td>NaN</td>\n",
       "      <td>NaN</td>\n",
       "      <td>NEW YORK</td>\n",
       "      <td>NY</td>\n",
       "      <td>10013.0</td>\n",
       "      <td>-73.99662</td>\n",
       "      <td>40.718694</td>\n",
       "    </tr>\n",
       "  </tbody>\n",
       "</table>\n",
       "<p>2 rows × 23 columns</p>\n",
       "</div>"
      ],
      "text/plain": [
       "         Record ID Certificate Number                   Business Name  \\\n",
       "0  28319-2020-ENFO           20T00443               CLASSIC DELI CORP   \n",
       "1  52728-2019-ENFO           05441777  SUN FAT FRUIT & VEGATABLE, INC   \n",
       "\n",
       "  Violation Date                Industry    Borough  \\\n",
       "0     12/02/2020   Tobacco Retail Dealer      Bronx   \n",
       "1     10/09/2019  Stoop Line Stand - 033  Manhattan   \n",
       "\n",
       "                                              Charge  Charge Count  \\\n",
       "0  NYC Admin Code § 17-715(a) - SOLD, OFFERED FOR...            12   \n",
       "1  NYC Admin Code § 20-237(a) - Stoop line licens...             2   \n",
       "\n",
       "            Outcome  Counts Settled  ...         Street  Street 2 Unit Type  \\\n",
       "0  Default Decision             NaN  ...  E GUN HILL RD       NaN       NaN   \n",
       "1  Default Decision             NaN  ...        MOTT ST       NaN       NaN   \n",
       "\n",
       "  Unit Description      City State      Zip Longitude   Latitude  \n",
       "0  NaN         NaN     BRONX    NY  10469.0 -73.84405  40.869315  \n",
       "1  NaN         NaN  NEW YORK    NY  10013.0 -73.99662  40.718694  \n",
       "\n",
       "[2 rows x 23 columns]"
      ]
     },
     "execution_count": 6,
     "metadata": {},
     "output_type": "execute_result"
    }
   ],
   "source": [
    "data.head(2)"
   ]
  },
  {
   "cell_type": "markdown",
   "metadata": {},
   "source": [
    "Then use this dataframe to calculate Mean, Median and Mode:"
   ]
  },
  {
   "cell_type": "code",
   "execution_count": 7,
   "metadata": {},
   "outputs": [
    {
     "name": "stdout",
     "output_type": "stream",
     "text": [
      "Mean: 5.297086916618512\n",
      "Median: 1.0\n",
      "Mode: 1\n"
     ]
    }
   ],
   "source": [
    "mean_value = data['Charge Count'].mean()\n",
    "median_value = data['Charge Count'].median()\n",
    "mode_value = data['Charge Count'].mode()[0]  \n",
    "\n",
    "print(\"Mean:\", mean_value)\n",
    "print(\"Median:\", median_value)\n",
    "print(\"Mode:\", mode_value)"
   ]
  },
  {
   "cell_type": "markdown",
   "metadata": {},
   "source": [
    "Next, use the hard way to calculate Mean, Median and Mode:"
   ]
  },
  {
   "cell_type": "code",
   "execution_count": 8,
   "metadata": {},
   "outputs": [],
   "source": [
    "import csv\n",
    "file_path = \"/Users/yuxiaohan/Documents/SIPA/Computing in Context/Homework/Project 1/Department_of_Consumer_and_Worker_Protection__DCWP__Issued_Charges_20241106.csv\"\n",
    "numeric_column_index = 7"
   ]
  },
  {
   "cell_type": "code",
   "execution_count": 9,
   "metadata": {},
   "outputs": [],
   "source": [
    "import csv\n",
    "\n",
    "def load_numeric_data(file_path, column_name):\n",
    "    \"\"\"\n",
    "    Load numeric data from a CSV file without relying on external libraries.\n",
    "    :param file_path: Path to the CSV file\n",
    "    :param column_name: Name of the numeric column\n",
    "    :return: List of numeric values\n",
    "    \"\"\"\n",
    "    data = []\n",
    "    with open(file_path, \"r\") as file:\n",
    "        reader = csv.reader(file)\n",
    "        header = next(reader)  # Read the header row\n",
    "        # Find the index of the target column\n",
    "        try:\n",
    "            column_index = header.index(column_name)\n",
    "        except ValueError:\n",
    "            raise ValueError(f\"Column '{column_name}' not found in CSV header: {header}\")\n",
    "        \n",
    "        # Process each row\n",
    "        for row in reader:\n",
    "            try:\n",
    "                value = row[column_index].strip().replace(\",\", \"\").replace(\"$\", \"\")  # Clean value\n",
    "                data.append(float(value))  # Convert to float\n",
    "            except (ValueError, IndexError):\n",
    "                # Skip invalid or missing rows\n",
    "                print(f\"Skipping invalid row: {row}\")\n",
    "    return data"
   ]
  },
  {
   "cell_type": "code",
   "execution_count": 10,
   "metadata": {},
   "outputs": [],
   "source": [
    "data = load_numeric_data(file_path, 'Charge Count')"
   ]
  },
  {
   "cell_type": "code",
   "execution_count": 11,
   "metadata": {},
   "outputs": [
    {
     "data": {
      "text/plain": [
       "[12.0, 2.0, 1.0, 1.0, 1.0]"
      ]
     },
     "execution_count": 11,
     "metadata": {},
     "output_type": "execute_result"
    }
   ],
   "source": [
    "data[:5]"
   ]
  },
  {
   "cell_type": "code",
   "execution_count": 12,
   "metadata": {},
   "outputs": [],
   "source": [
    "# Calculate mean manually\n",
    "def calculate_mean(data):\n",
    "    return sum(data) / len(data)"
   ]
  },
  {
   "cell_type": "code",
   "execution_count": 13,
   "metadata": {},
   "outputs": [
    {
     "data": {
      "text/plain": [
       "5.297086916618512"
      ]
     },
     "execution_count": 13,
     "metadata": {},
     "output_type": "execute_result"
    }
   ],
   "source": [
    "calculate_mean(data)"
   ]
  },
  {
   "cell_type": "code",
   "execution_count": 14,
   "metadata": {},
   "outputs": [],
   "source": [
    "# Calculate median manually\n",
    "def calculate_median(data):\n",
    "    position = int(50 * (len(data) + 1) / 100)\n",
    "    data = sorted(data)\n",
    "    if len(data) % 2 ==0:\n",
    "        return (data[position-1] + data[position]) / 2\n",
    "    else:\n",
    "        return data[position-1]"
   ]
  },
  {
   "cell_type": "code",
   "execution_count": 15,
   "metadata": {},
   "outputs": [
    {
     "data": {
      "text/plain": [
       "1.0"
      ]
     },
     "execution_count": 15,
     "metadata": {},
     "output_type": "execute_result"
    }
   ],
   "source": [
    "calculate_median(data)"
   ]
  },
  {
   "cell_type": "code",
   "execution_count": 16,
   "metadata": {},
   "outputs": [],
   "source": [
    "# Calculate mode manually\n",
    "def calculate_mode(data):\n",
    "    freq = {}\n",
    "    for num in data:\n",
    "        if not num in freq:\n",
    "            freq[num] = 1\n",
    "        else:\n",
    "            freq[num] +=1\n",
    "    return max(freq, key=freq.get)"
   ]
  },
  {
   "cell_type": "code",
   "execution_count": 17,
   "metadata": {},
   "outputs": [
    {
     "data": {
      "text/plain": [
       "1.0"
      ]
     },
     "execution_count": 17,
     "metadata": {},
     "output_type": "execute_result"
    }
   ],
   "source": [
    "calculate_mode(data)"
   ]
  },
  {
   "cell_type": "markdown",
   "metadata": {},
   "source": [
    "# Data visualization"
   ]
  },
  {
   "cell_type": "code",
   "execution_count": 18,
   "metadata": {},
   "outputs": [],
   "source": [
    "import csv\n",
    "\n",
    "file_path = \"/Users/yuxiaohan/Documents/SIPA/Computing in Context/Homework/Project 1/Department_of_Consumer_and_Worker_Protection__DCWP__Issued_Charges_20241106.csv\"\n"
   ]
  },
  {
   "cell_type": "code",
   "execution_count": 19,
   "metadata": {},
   "outputs": [],
   "source": [
    "counts_per_year = {}\n",
    "with open(file_path, mode='r') as file:\n",
    "    reader = csv.DictReader(file)\n",
    "    for row in reader:\n",
    "        year = row[\"Violation Date\"].split(\"/\")[-1] \n",
    "        if year.isdigit():\n",
    "            if year in counts_per_year:\n",
    "                counts_per_year[year] += 1\n",
    "            else:\n",
    "                counts_per_year[year] = 1\n"
   ]
  },
  {
   "cell_type": "code",
   "execution_count": 20,
   "metadata": {},
   "outputs": [
    {
     "name": "stdout",
     "output_type": "stream",
     "text": [
      "Year      Count     \n",
      "2014      22887     \n",
      "2015      21176     \n",
      "2016      24273     \n",
      "2017      28377     \n",
      "2018      24990     \n",
      "2019      30236     \n",
      "2020      13416     \n",
      "2021      16278     \n",
      "2022      31310     \n",
      "2023      22409     \n"
     ]
    }
   ],
   "source": [
    "print(f\"{'Year':<10}{'Count':<10}\")\n",
    "for year, count in sorted(counts_per_year.items()):\n",
    "    print(f\"{year:<10}{count:<10}\")"
   ]
  },
  {
   "cell_type": "code",
   "execution_count": 21,
   "metadata": {},
   "outputs": [
    {
     "name": "stdout",
     "output_type": "stream",
     "text": [
      "2014: **********************\n",
      "2015: *********************\n",
      "2016: ************************\n",
      "2017: ****************************\n",
      "2018: ************************\n",
      "2019: ******************************\n",
      "2020: *************\n",
      "2021: ****************\n",
      "2022: *******************************\n",
      "2023: **********************\n"
     ]
    }
   ],
   "source": [
    "#Sparkline Visualization\n",
    "for year, count in sorted(counts_per_year.items()):\n",
    "    print(f\"{year}: {'*' * (count // 1000)}\")  "
   ]
  },
  {
   "cell_type": "code",
   "execution_count": 22,
   "metadata": {},
   "outputs": [
    {
     "name": "stdout",
     "output_type": "stream",
     "text": [
      "+--------+---------+\n",
      "|   Year |   Count |\n",
      "+========+=========+\n",
      "|   2014 |   22887 |\n",
      "+--------+---------+\n",
      "|   2015 |   21176 |\n",
      "+--------+---------+\n",
      "|   2016 |   24273 |\n",
      "+--------+---------+\n",
      "|   2017 |   28377 |\n",
      "+--------+---------+\n",
      "|   2018 |   24990 |\n",
      "+--------+---------+\n",
      "|   2019 |   30236 |\n",
      "+--------+---------+\n",
      "|   2020 |   13416 |\n",
      "+--------+---------+\n",
      "|   2021 |   16278 |\n",
      "+--------+---------+\n",
      "|   2022 |   31310 |\n",
      "+--------+---------+\n",
      "|   2023 |   22409 |\n",
      "+--------+---------+\n"
     ]
    }
   ],
   "source": [
    "\n",
    "#Table Visualization\n",
    "\n",
    "from tabulate import tabulate\n",
    "\n",
    "headers = [\"Year\", \"Count\"]\n",
    "data = sorted([(year, count) for year, count in counts_per_year.items()])\n",
    "print(tabulate(data, headers=headers, tablefmt=\"grid\"))\n"
   ]
  }
 ],
 "metadata": {
  "kernelspec": {
   "display_name": "Python 3",
   "language": "python",
   "name": "python3"
  },
  "language_info": {
   "codemirror_mode": {
    "name": "ipython",
    "version": 3
   },
   "file_extension": ".py",
   "mimetype": "text/x-python",
   "name": "python",
   "nbconvert_exporter": "python",
   "pygments_lexer": "ipython3",
   "version": "3.12.2"
  }
 },
 "nbformat": 4,
 "nbformat_minor": 2
}